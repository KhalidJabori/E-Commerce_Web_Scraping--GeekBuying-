{
 "cells": [
  {
   "cell_type": "code",
   "execution_count": 1,
   "id": "b964c275",
   "metadata": {},
   "outputs": [],
   "source": [
    "import pandas as pd\n",
    "from selenium import webdriver\n",
    "from selenium.webdriver.common.keys import Keys\n",
    "from selenium.webdriver.support import expected_conditions as EC\n",
    "from selenium.webdriver.common.by import By\n",
    "from selenium.webdriver.chrome.service import Service\n",
    "from selenium.webdriver.support.wait import WebDriverWait\n",
    "from webdriver_manager.chrome import ChromeDriverManager\n",
    "import time\n",
    "import os"
   ]
  },
  {
   "cell_type": "code",
   "execution_count": 90,
   "id": "a9a733f0",
   "metadata": {},
   "outputs": [],
   "source": [
    "s = Service(r\"C:/webdrivers/chromedriver.exe\")\n",
    "driver = webdriver.Chrome(service=s)\n",
    "driver.get('https://www.geekbuying.com/')"
   ]
  },
  {
   "cell_type": "code",
   "execution_count": 91,
   "id": "03b4c8ca",
   "metadata": {},
   "outputs": [],
   "source": [
    "x = driver.find_element('xpath','//*[@id=\"subContent\"]/div[1]/span[1]')\n",
    "x.click()"
   ]
  },
  {
   "cell_type": "code",
   "execution_count": 92,
   "id": "2579612b",
   "metadata": {},
   "outputs": [],
   "source": [
    "search = driver.find_element('xpath','//*[@id=\"searchText\"]')\n",
    "search.click()"
   ]
  },
  {
   "cell_type": "code",
   "execution_count": 93,
   "id": "6de6b030",
   "metadata": {},
   "outputs": [],
   "source": [
    "search.send_keys('e bike')\n",
    "search.send_keys(Keys.ENTER)"
   ]
  },
  {
   "cell_type": "code",
   "execution_count": 94,
   "id": "4aed2905",
   "metadata": {},
   "outputs": [],
   "source": [
    "df_bike = pd.DataFrame(columns=['Product Name','Price New','Price Old'])"
   ]
  },
  {
   "cell_type": "code",
   "execution_count": 96,
   "id": "c666ebdc",
   "metadata": {
    "collapsed": true
   },
   "outputs": [
    {
     "ename": "NoSuchElementException",
     "evalue": "Message: no such element: Unable to locate element: {\"method\":\"xpath\",\"selector\":\"//a[@class=\"next\"]\"}\n  (Session info: chrome=135.0.7049.96); For documentation on this error, please visit: https://www.selenium.dev/documentation/webdriver/troubleshooting/errors#no-such-element-exception\nStacktrace:\n\tGetHandleVerifier [0x00007FF6B689DF85+26693]\n\t(No symbol) [0x00007FF6B67FEAD0]\n\t(No symbol) [0x00007FF6B66891CA]\n\t(No symbol) [0x00007FF6B66DF747]\n\t(No symbol) [0x00007FF6B66DF97C]\n\t(No symbol) [0x00007FF6B67333C7]\n\t(No symbol) [0x00007FF6B670792F]\n\t(No symbol) [0x00007FF6B67300B8]\n\t(No symbol) [0x00007FF6B67076C3]\n\t(No symbol) [0x00007FF6B66D0490]\n\t(No symbol) [0x00007FF6B66D1743]\n\tGetHandleVerifier [0x00007FF6B6BF436D+3525677]\n\tGetHandleVerifier [0x00007FF6B6C07F3B+3606523]\n\tGetHandleVerifier [0x00007FF6B6BFCEE3+3561379]\n\tGetHandleVerifier [0x00007FF6B6967C0A+853194]\n\t(No symbol) [0x00007FF6B680990F]\n\t(No symbol) [0x00007FF6B6805674]\n\t(No symbol) [0x00007FF6B6805816]\n\t(No symbol) [0x00007FF6B67F4D89]\n\tBaseThreadInitThunk [0x00007FFB4B917374+20]\n\tRtlUserThreadStart [0x00007FFB4CD7CC91+33]\n",
     "output_type": "error",
     "traceback": [
      "\u001b[1;31m---------------------------------------------------------------------------\u001b[0m",
      "\u001b[1;31mNoSuchElementException\u001b[0m                    Traceback (most recent call last)",
      "\u001b[1;32m<ipython-input-96-85d6a5dabad7>\u001b[0m in \u001b[0;36m<module>\u001b[1;34m\u001b[0m\n\u001b[0;32m     13\u001b[0m \u001b[1;33m\u001b[0m\u001b[0m\n\u001b[0;32m     14\u001b[0m     \u001b[0mtime\u001b[0m\u001b[1;33m.\u001b[0m\u001b[0msleep\u001b[0m\u001b[1;33m(\u001b[0m\u001b[1;36m3\u001b[0m\u001b[1;33m)\u001b[0m\u001b[1;33m\u001b[0m\u001b[1;33m\u001b[0m\u001b[0m\n\u001b[1;32m---> 15\u001b[1;33m     \u001b[0mnext_page\u001b[0m\u001b[1;33m=\u001b[0m \u001b[0mdriver\u001b[0m\u001b[1;33m.\u001b[0m\u001b[0mfind_element\u001b[0m\u001b[1;33m(\u001b[0m\u001b[1;34m'xpath'\u001b[0m\u001b[1;33m,\u001b[0m\u001b[1;34m'//a[@class=\"next\"]'\u001b[0m\u001b[1;33m)\u001b[0m\u001b[1;33m\u001b[0m\u001b[1;33m\u001b[0m\u001b[0m\n\u001b[0m\u001b[0;32m     16\u001b[0m     \u001b[0md\u001b[0m\u001b[1;33m=\u001b[0m\u001b[0mnext_page\u001b[0m\u001b[1;33m.\u001b[0m\u001b[0mget_attribute\u001b[0m\u001b[1;33m(\u001b[0m\u001b[1;34m'href'\u001b[0m\u001b[1;33m)\u001b[0m\u001b[1;33m\u001b[0m\u001b[1;33m\u001b[0m\u001b[0m\n\u001b[0;32m     17\u001b[0m     \u001b[1;32mtry\u001b[0m\u001b[1;33m:\u001b[0m\u001b[1;33m\u001b[0m\u001b[1;33m\u001b[0m\u001b[0m\n",
      "\u001b[1;32m~\\anaconda3\\anacond\\lib\\site-packages\\selenium\\webdriver\\remote\\webdriver.py\u001b[0m in \u001b[0;36mfind_element\u001b[1;34m(self, by, value)\u001b[0m\n\u001b[0;32m    768\u001b[0m             \u001b[1;32mreturn\u001b[0m \u001b[0melements\u001b[0m\u001b[1;33m[\u001b[0m\u001b[1;36m0\u001b[0m\u001b[1;33m]\u001b[0m\u001b[1;33m\u001b[0m\u001b[1;33m\u001b[0m\u001b[0m\n\u001b[0;32m    769\u001b[0m \u001b[1;33m\u001b[0m\u001b[0m\n\u001b[1;32m--> 770\u001b[1;33m         \u001b[1;32mreturn\u001b[0m \u001b[0mself\u001b[0m\u001b[1;33m.\u001b[0m\u001b[0mexecute\u001b[0m\u001b[1;33m(\u001b[0m\u001b[0mCommand\u001b[0m\u001b[1;33m.\u001b[0m\u001b[0mFIND_ELEMENT\u001b[0m\u001b[1;33m,\u001b[0m \u001b[1;33m{\u001b[0m\u001b[1;34m\"using\"\u001b[0m\u001b[1;33m:\u001b[0m \u001b[0mby\u001b[0m\u001b[1;33m,\u001b[0m \u001b[1;34m\"value\"\u001b[0m\u001b[1;33m:\u001b[0m \u001b[0mvalue\u001b[0m\u001b[1;33m}\u001b[0m\u001b[1;33m)\u001b[0m\u001b[1;33m[\u001b[0m\u001b[1;34m\"value\"\u001b[0m\u001b[1;33m]\u001b[0m\u001b[1;33m\u001b[0m\u001b[1;33m\u001b[0m\u001b[0m\n\u001b[0m\u001b[0;32m    771\u001b[0m \u001b[1;33m\u001b[0m\u001b[0m\n\u001b[0;32m    772\u001b[0m     \u001b[1;32mdef\u001b[0m \u001b[0mfind_elements\u001b[0m\u001b[1;33m(\u001b[0m\u001b[0mself\u001b[0m\u001b[1;33m,\u001b[0m \u001b[0mby\u001b[0m\u001b[1;33m=\u001b[0m\u001b[0mBy\u001b[0m\u001b[1;33m.\u001b[0m\u001b[0mID\u001b[0m\u001b[1;33m,\u001b[0m \u001b[0mvalue\u001b[0m\u001b[1;33m:\u001b[0m \u001b[0mOptional\u001b[0m\u001b[1;33m[\u001b[0m\u001b[0mstr\u001b[0m\u001b[1;33m]\u001b[0m \u001b[1;33m=\u001b[0m \u001b[1;32mNone\u001b[0m\u001b[1;33m)\u001b[0m \u001b[1;33m->\u001b[0m \u001b[0mList\u001b[0m\u001b[1;33m[\u001b[0m\u001b[0mWebElement\u001b[0m\u001b[1;33m]\u001b[0m\u001b[1;33m:\u001b[0m\u001b[1;33m\u001b[0m\u001b[1;33m\u001b[0m\u001b[0m\n",
      "\u001b[1;32m~\\anaconda3\\anacond\\lib\\site-packages\\selenium\\webdriver\\remote\\webdriver.py\u001b[0m in \u001b[0;36mexecute\u001b[1;34m(self, driver_command, params)\u001b[0m\n\u001b[0;32m    382\u001b[0m         \u001b[0mresponse\u001b[0m \u001b[1;33m=\u001b[0m \u001b[0mself\u001b[0m\u001b[1;33m.\u001b[0m\u001b[0mcommand_executor\u001b[0m\u001b[1;33m.\u001b[0m\u001b[0mexecute\u001b[0m\u001b[1;33m(\u001b[0m\u001b[0mdriver_command\u001b[0m\u001b[1;33m,\u001b[0m \u001b[0mparams\u001b[0m\u001b[1;33m)\u001b[0m\u001b[1;33m\u001b[0m\u001b[1;33m\u001b[0m\u001b[0m\n\u001b[0;32m    383\u001b[0m         \u001b[1;32mif\u001b[0m \u001b[0mresponse\u001b[0m\u001b[1;33m:\u001b[0m\u001b[1;33m\u001b[0m\u001b[1;33m\u001b[0m\u001b[0m\n\u001b[1;32m--> 384\u001b[1;33m             \u001b[0mself\u001b[0m\u001b[1;33m.\u001b[0m\u001b[0merror_handler\u001b[0m\u001b[1;33m.\u001b[0m\u001b[0mcheck_response\u001b[0m\u001b[1;33m(\u001b[0m\u001b[0mresponse\u001b[0m\u001b[1;33m)\u001b[0m\u001b[1;33m\u001b[0m\u001b[1;33m\u001b[0m\u001b[0m\n\u001b[0m\u001b[0;32m    385\u001b[0m             \u001b[0mresponse\u001b[0m\u001b[1;33m[\u001b[0m\u001b[1;34m\"value\"\u001b[0m\u001b[1;33m]\u001b[0m \u001b[1;33m=\u001b[0m \u001b[0mself\u001b[0m\u001b[1;33m.\u001b[0m\u001b[0m_unwrap_value\u001b[0m\u001b[1;33m(\u001b[0m\u001b[0mresponse\u001b[0m\u001b[1;33m.\u001b[0m\u001b[0mget\u001b[0m\u001b[1;33m(\u001b[0m\u001b[1;34m\"value\"\u001b[0m\u001b[1;33m,\u001b[0m \u001b[1;32mNone\u001b[0m\u001b[1;33m)\u001b[0m\u001b[1;33m)\u001b[0m\u001b[1;33m\u001b[0m\u001b[1;33m\u001b[0m\u001b[0m\n\u001b[0;32m    386\u001b[0m             \u001b[1;32mreturn\u001b[0m \u001b[0mresponse\u001b[0m\u001b[1;33m\u001b[0m\u001b[1;33m\u001b[0m\u001b[0m\n",
      "\u001b[1;32m~\\anaconda3\\anacond\\lib\\site-packages\\selenium\\webdriver\\remote\\errorhandler.py\u001b[0m in \u001b[0;36mcheck_response\u001b[1;34m(self, response)\u001b[0m\n\u001b[0;32m    230\u001b[0m                 \u001b[0malert_text\u001b[0m \u001b[1;33m=\u001b[0m \u001b[0mvalue\u001b[0m\u001b[1;33m[\u001b[0m\u001b[1;34m\"alert\"\u001b[0m\u001b[1;33m]\u001b[0m\u001b[1;33m.\u001b[0m\u001b[0mget\u001b[0m\u001b[1;33m(\u001b[0m\u001b[1;34m\"text\"\u001b[0m\u001b[1;33m)\u001b[0m\u001b[1;33m\u001b[0m\u001b[1;33m\u001b[0m\u001b[0m\n\u001b[0;32m    231\u001b[0m             \u001b[1;32mraise\u001b[0m \u001b[0mexception_class\u001b[0m\u001b[1;33m(\u001b[0m\u001b[0mmessage\u001b[0m\u001b[1;33m,\u001b[0m \u001b[0mscreen\u001b[0m\u001b[1;33m,\u001b[0m \u001b[0mstacktrace\u001b[0m\u001b[1;33m,\u001b[0m \u001b[0malert_text\u001b[0m\u001b[1;33m)\u001b[0m  \u001b[1;31m# type: ignore[call-arg]  # mypy is not smart enough here\u001b[0m\u001b[1;33m\u001b[0m\u001b[1;33m\u001b[0m\u001b[0m\n\u001b[1;32m--> 232\u001b[1;33m         \u001b[1;32mraise\u001b[0m \u001b[0mexception_class\u001b[0m\u001b[1;33m(\u001b[0m\u001b[0mmessage\u001b[0m\u001b[1;33m,\u001b[0m \u001b[0mscreen\u001b[0m\u001b[1;33m,\u001b[0m \u001b[0mstacktrace\u001b[0m\u001b[1;33m)\u001b[0m\u001b[1;33m\u001b[0m\u001b[1;33m\u001b[0m\u001b[0m\n\u001b[0m",
      "\u001b[1;31mNoSuchElementException\u001b[0m: Message: no such element: Unable to locate element: {\"method\":\"xpath\",\"selector\":\"//a[@class=\"next\"]\"}\n  (Session info: chrome=135.0.7049.96); For documentation on this error, please visit: https://www.selenium.dev/documentation/webdriver/troubleshooting/errors#no-such-element-exception\nStacktrace:\n\tGetHandleVerifier [0x00007FF6B689DF85+26693]\n\t(No symbol) [0x00007FF6B67FEAD0]\n\t(No symbol) [0x00007FF6B66891CA]\n\t(No symbol) [0x00007FF6B66DF747]\n\t(No symbol) [0x00007FF6B66DF97C]\n\t(No symbol) [0x00007FF6B67333C7]\n\t(No symbol) [0x00007FF6B670792F]\n\t(No symbol) [0x00007FF6B67300B8]\n\t(No symbol) [0x00007FF6B67076C3]\n\t(No symbol) [0x00007FF6B66D0490]\n\t(No symbol) [0x00007FF6B66D1743]\n\tGetHandleVerifier [0x00007FF6B6BF436D+3525677]\n\tGetHandleVerifier [0x00007FF6B6C07F3B+3606523]\n\tGetHandleVerifier [0x00007FF6B6BFCEE3+3561379]\n\tGetHandleVerifier [0x00007FF6B6967C0A+853194]\n\t(No symbol) [0x00007FF6B680990F]\n\t(No symbol) [0x00007FF6B6805674]\n\t(No symbol) [0x00007FF6B6805816]\n\t(No symbol) [0x00007FF6B67F4D89]\n\tBaseThreadInitThunk [0x00007FFB4B917374+20]\n\tRtlUserThreadStart [0x00007FFB4CD7CC91+33]\n"
     ]
    }
   ],
   "source": [
    "for j in range(11):\n",
    "    product_name = driver.find_elements('xpath','//*[@class=\"searchResultItem\"]/div/div[2]/a')\n",
    "    product_price = driver.find_elements('xpath','//*[@class=\"price notranslate\"]')\n",
    "\n",
    "    for i in range(len(product_name)):\n",
    "        try:\n",
    "            old=product_price[i].text.split()[1]\n",
    "        except:\n",
    "            old= [old if old !='' else ''][0]\n",
    "        df_bike = df_bike.append({'Product Name':product_name[i].text,'Price New':product_price[i].text.split()[0],'Price Old':old}, ignore_index=True)  \n",
    "    \n",
    "    time.sleep(3)\n",
    "    next_page= driver.find_element('xpath','//a[@class=\"next\"]')\n",
    "    d=next_page.get_attribute('href')\n",
    "    try:\n",
    "        driver.get(d)\n",
    "        time.sleep(5)\n",
    "    except:\n",
    "        print('finished')\n",
    "        \n",
    "    product_name = []\n",
    "    product_price = []"
   ]
  },
  {
   "cell_type": "code",
   "execution_count": 97,
   "id": "ef693264",
   "metadata": {},
   "outputs": [
    {
     "data": {
      "text/html": [
       "<div>\n",
       "<style scoped>\n",
       "    .dataframe tbody tr th:only-of-type {\n",
       "        vertical-align: middle;\n",
       "    }\n",
       "\n",
       "    .dataframe tbody tr th {\n",
       "        vertical-align: top;\n",
       "    }\n",
       "\n",
       "    .dataframe thead th {\n",
       "        text-align: right;\n",
       "    }\n",
       "</style>\n",
       "<table border=\"1\" class=\"dataframe\">\n",
       "  <thead>\n",
       "    <tr style=\"text-align: right;\">\n",
       "      <th></th>\n",
       "      <th>Product Name</th>\n",
       "      <th>Price New</th>\n",
       "      <th>Price Old</th>\n",
       "    </tr>\n",
       "  </thead>\n",
       "  <tbody>\n",
       "    <tr>\n",
       "      <th>0</th>\n",
       "      <td>Touroll B1 Electric City Bike, 250W Motor, 45N...</td>\n",
       "      <td>$587.61</td>\n",
       "      <td>$899.98</td>\n",
       "    </tr>\n",
       "    <tr>\n",
       "      <th>1</th>\n",
       "      <td>ENGWE P1 Folding Electric Bike 20*2.3 inch Wid...</td>\n",
       "      <td>$801.67</td>\n",
       "      <td>$999.98</td>\n",
       "    </tr>\n",
       "    <tr>\n",
       "      <th>2</th>\n",
       "      <td>Eleglide T1 Step-Thru Electric Trekking Bike 2...</td>\n",
       "      <td>$833.78</td>\n",
       "      <td>$1299.98</td>\n",
       "    </tr>\n",
       "    <tr>\n",
       "      <th>3</th>\n",
       "      <td>Touroll J1 27.5 inch Trekking Bike with 250W M...</td>\n",
       "      <td>$748.15</td>\n",
       "      <td>$949.80</td>\n",
       "    </tr>\n",
       "    <tr>\n",
       "      <th>4</th>\n",
       "      <td>Touroll U1 29-inch Off-Road Tire Electric MTB ...</td>\n",
       "      <td>$587.61</td>\n",
       "      <td>$799.98</td>\n",
       "    </tr>\n",
       "    <tr>\n",
       "      <th>...</th>\n",
       "      <td>...</td>\n",
       "      <td>...</td>\n",
       "      <td>...</td>\n",
       "    </tr>\n",
       "    <tr>\n",
       "      <th>406</th>\n",
       "      <td>ENGWE L20 Electric Bike 20*4.0 inch Fat Tire 2...</td>\n",
       "      <td>$1176.28</td>\n",
       "      <td>$1695.80</td>\n",
       "    </tr>\n",
       "    <tr>\n",
       "      <th>407</th>\n",
       "      <td>DYU T1 Electric Bike 20 Inch Tire Torque Senso...</td>\n",
       "      <td>$908.70</td>\n",
       "      <td>$1690.22</td>\n",
       "    </tr>\n",
       "    <tr>\n",
       "      <th>408</th>\n",
       "      <td>DYU C1 Electric Bike, 350W Motor, 36V 10Ah Bat...</td>\n",
       "      <td>$1699.00</td>\n",
       "      <td>$1690.22</td>\n",
       "    </tr>\n",
       "    <tr>\n",
       "      <th>409</th>\n",
       "      <td>ENGWE Folding Bike Lock Anti Theft Bicycle Loc...</td>\n",
       "      <td>$75.56</td>\n",
       "      <td>$1690.22</td>\n",
       "    </tr>\n",
       "    <tr>\n",
       "      <th>410</th>\n",
       "      <td>ENGWE T14 Battery 48V 15.6Ah Battery for ENGWE...</td>\n",
       "      <td>$320.03</td>\n",
       "      <td>$411.30</td>\n",
       "    </tr>\n",
       "  </tbody>\n",
       "</table>\n",
       "<p>411 rows × 3 columns</p>\n",
       "</div>"
      ],
      "text/plain": [
       "                                          Product Name Price New Price Old\n",
       "0    Touroll B1 Electric City Bike, 250W Motor, 45N...   $587.61   $899.98\n",
       "1    ENGWE P1 Folding Electric Bike 20*2.3 inch Wid...   $801.67   $999.98\n",
       "2    Eleglide T1 Step-Thru Electric Trekking Bike 2...   $833.78  $1299.98\n",
       "3    Touroll J1 27.5 inch Trekking Bike with 250W M...   $748.15   $949.80\n",
       "4    Touroll U1 29-inch Off-Road Tire Electric MTB ...   $587.61   $799.98\n",
       "..                                                 ...       ...       ...\n",
       "406  ENGWE L20 Electric Bike 20*4.0 inch Fat Tire 2...  $1176.28  $1695.80\n",
       "407  DYU T1 Electric Bike 20 Inch Tire Torque Senso...   $908.70  $1690.22\n",
       "408  DYU C1 Electric Bike, 350W Motor, 36V 10Ah Bat...  $1699.00  $1690.22\n",
       "409  ENGWE Folding Bike Lock Anti Theft Bicycle Loc...    $75.56  $1690.22\n",
       "410  ENGWE T14 Battery 48V 15.6Ah Battery for ENGWE...   $320.03   $411.30\n",
       "\n",
       "[411 rows x 3 columns]"
      ]
     },
     "execution_count": 97,
     "metadata": {},
     "output_type": "execute_result"
    }
   ],
   "source": [
    "df_bike"
   ]
  },
  {
   "cell_type": "code",
   "execution_count": 99,
   "id": "4f186a21",
   "metadata": {},
   "outputs": [],
   "source": [
    "df_bike.to_excel('products_bike.xlsx',index=False)"
   ]
  },
  {
   "cell_type": "code",
   "execution_count": null,
   "id": "7a3632ea",
   "metadata": {},
   "outputs": [],
   "source": []
  },
  {
   "cell_type": "code",
   "execution_count": null,
   "id": "c7d1cf03",
   "metadata": {},
   "outputs": [],
   "source": []
  }
 ],
 "metadata": {
  "kernelspec": {
   "display_name": "Python 3",
   "language": "python",
   "name": "python3"
  },
  "language_info": {
   "codemirror_mode": {
    "name": "ipython",
    "version": 3
   },
   "file_extension": ".py",
   "mimetype": "text/x-python",
   "name": "python",
   "nbconvert_exporter": "python",
   "pygments_lexer": "ipython3",
   "version": "3.8.8"
  },
  "varInspector": {
   "cols": {
    "lenName": 16,
    "lenType": 16,
    "lenVar": 40
   },
   "kernels_config": {
    "python": {
     "delete_cmd_postfix": "",
     "delete_cmd_prefix": "del ",
     "library": "var_list.py",
     "varRefreshCmd": "print(var_dic_list())"
    },
    "r": {
     "delete_cmd_postfix": ") ",
     "delete_cmd_prefix": "rm(",
     "library": "var_list.r",
     "varRefreshCmd": "cat(var_dic_list()) "
    }
   },
   "types_to_exclude": [
    "module",
    "function",
    "builtin_function_or_method",
    "instance",
    "_Feature"
   ],
   "window_display": false
  }
 },
 "nbformat": 4,
 "nbformat_minor": 5
}
